{
  "nbformat": 4,
  "nbformat_minor": 0,
  "metadata": {
    "colab": {
      "provenance": []
    },
    "kernelspec": {
      "name": "python3",
      "display_name": "Python 3"
    },
    "language_info": {
      "name": "python"
    }
  },
  "cells": [
    {
      "cell_type": "code",
      "execution_count": null,
      "metadata": {
        "id": "n-eCiqD8Je2o"
      },
      "outputs": [],
      "source": [
        "from google.colab import drive"
      ]
    },
    {
      "cell_type": "code",
      "source": [
        "drive.mount('/content/drive')"
      ],
      "metadata": {
        "colab": {
          "base_uri": "https://localhost:8080/"
        },
        "id": "CfEC6bT1J-Hs",
        "outputId": "19652eb3-0d1e-4faf-df99-3bb397a59e6a"
      },
      "execution_count": null,
      "outputs": [
        {
          "output_type": "stream",
          "name": "stdout",
          "text": [
            "Mounted at /content/drive\n"
          ]
        }
      ]
    },
    {
      "cell_type": "code",
      "source": [
        "!pip install -q condacolab\n",
        "import condacolab\n",
        "condacolab.install()"
      ],
      "metadata": {
        "colab": {
          "base_uri": "https://localhost:8080/"
        },
        "id": "78DPx6o6K2UJ",
        "outputId": "5ed31e07-c919-4456-c331-57339ba5ab95"
      },
      "execution_count": null,
      "outputs": [
        {
          "output_type": "stream",
          "name": "stdout",
          "text": [
            "⏬ Downloading https://github.com/jaimergp/miniforge/releases/latest/download/Mambaforge-colab-Linux-x86_64.sh...\n",
            "📦 Installing...\n",
            "📌 Adjusting configuration...\n",
            "🩹 Patching environment...\n",
            "⏲ Done in 0:00:28\n",
            "🔁 Restarting kernel...\n"
          ]
        }
      ]
    },
    {
      "cell_type": "markdown",
      "source": [
        "#HISAT2"
      ],
      "metadata": {
        "id": "Sofvg_-FLPh9"
      }
    },
    {
      "cell_type": "code",
      "source": [
        "!conda install -y -c bioconda hisat2"
      ],
      "metadata": {
        "colab": {
          "base_uri": "https://localhost:8080/"
        },
        "id": "aimM6FZ9K-s_",
        "outputId": "039fff1f-d8ef-48b9-ccfe-04e51f860bbe"
      },
      "execution_count": null,
      "outputs": [
        {
          "output_type": "stream",
          "name": "stdout",
          "text": [
            "Collecting package metadata (current_repodata.json): - \b\b\\ \b\b| \b\b/ \b\b- \b\b\\ \b\b| \b\b/ \b\b- \b\b\\ \b\b| \b\b/ \b\b- \b\b\\ \b\b| \b\b/ \b\b- \b\b\\ \b\b| \b\b/ \b\b- \b\b\\ \b\b| \b\b/ \b\b- \b\b\\ \b\b| \b\b/ \b\b- \b\b\\ \b\b| \b\b/ \b\b- \b\b\\ \b\b| \b\b/ \b\b- \b\b\\ \b\b| \b\b/ \b\b- \b\b\\ \b\b| \b\b/ \b\b- \b\b\\ \b\b| \b\b/ \b\b- \b\b\\ \b\b| \b\b/ \b\b- \b\b\\ \b\b| \b\b/ \b\b- \b\b\\ \b\b| \b\b/ \b\b- \b\b\\ \b\b| \b\b/ \b\b- \b\b\\ \b\b| \b\b/ \b\b- \b\b\\ \b\b| \b\b/ \b\b- \b\b\\ \b\b| \b\b/ \b\b- \b\b\\ \b\b| \b\b/ \b\b- \b\b\\ \b\b| \b\b/ \b\b- \b\b\\ \b\b| \b\b/ \b\b- \b\b\\ \b\b| \b\b/ \b\b- \b\b\\ \b\b| \b\b/ \b\b- \b\b\\ \b\b| \b\b/ \b\b- \b\b\\ \b\b| \b\b/ \b\b- \b\b\\ \b\b| \b\b/ \b\b- \b\b\\ \b\b| \b\b/ \b\b- \b\b\\ \b\b| \b\b/ \b\b- \b\b\\ \b\b| \b\b/ \b\b- \b\b\\ \b\b| \b\b/ \b\b- \b\b\\ \b\b| \b\b/ \b\b- \b\b\\ \b\b| \b\b/ \b\b- \b\b\\ \b\b| \b\b/ \b\b- \b\b\\ \b\b| \b\b/ \b\b- \b\b\\ \b\b| \b\b/ \b\b- \b\b\\ \b\b| \b\b/ \b\b- \b\b\\ \b\b| \b\b/ \b\b- \b\b\\ \b\b| \b\b/ \b\b- \b\b\\ \b\b| \b\b/ \b\b- \b\b\\ \b\b| \b\b/ \b\b- \b\b\\ \b\b| \b\b/ \b\b- \b\b\\ \b\b| \b\b/ \b\b- \b\bdone\n",
            "Solving environment: | \b\b/ \b\b- \b\b\\ \b\b| \b\b/ \b\b- \b\b\\ \b\b| \b\b/ \b\b- \b\b\\ \b\b| \b\b/ \b\bdone\n",
            "\n",
            "## Package Plan ##\n",
            "\n",
            "  environment location: /usr/local\n",
            "\n",
            "  added / updated specs:\n",
            "    - hisat2\n",
            "\n",
            "\n",
            "The following packages will be downloaded:\n",
            "\n",
            "    package                    |            build\n",
            "    ---------------------------|-----------------\n",
            "    ca-certificates-2022.9.24  |       ha878542_0         150 KB  conda-forge\n",
            "    certifi-2022.9.24          |     pyhd8ed1ab_0         155 KB  conda-forge\n",
            "    conda-22.9.0               |   py37h89c1867_1         960 KB  conda-forge\n",
            "    hisat2-2.2.1               |       h87f3376_4        16.5 MB  bioconda\n",
            "    perl-5.32.1                | 2_h7f98852_perl5        14.4 MB  conda-forge\n",
            "    ------------------------------------------------------------\n",
            "                                           Total:        32.2 MB\n",
            "\n",
            "The following NEW packages will be INSTALLED:\n",
            "\n",
            "  hisat2             bioconda/linux-64::hisat2-2.2.1-h87f3376_4\n",
            "  perl               conda-forge/linux-64::perl-5.32.1-2_h7f98852_perl5\n",
            "\n",
            "The following packages will be UPDATED:\n",
            "\n",
            "  ca-certificates                      2022.6.15-ha878542_0 --> 2022.9.24-ha878542_0\n",
            "  certifi            conda-forge/linux-64::certifi-2022.6.~ --> conda-forge/noarch::certifi-2022.9.24-pyhd8ed1ab_0\n",
            "  conda                               4.14.0-py37h89c1867_0 --> 22.9.0-py37h89c1867_1\n",
            "\n",
            "\n",
            "\n",
            "Downloading and Extracting Packages\n",
            "ca-certificates-2022 | 150 KB    | : 100% 1.0/1 [00:00<00:00,  7.19it/s]               \n",
            "certifi-2022.9.24    | 155 KB    | : 100% 1.0/1 [00:00<00:00, 17.16it/s]\n",
            "conda-22.9.0         | 960 KB    | : 100% 1.0/1 [00:00<00:00,  2.84it/s]\n",
            "hisat2-2.2.1         | 16.5 MB   | : 100% 1.0/1 [00:03<00:00,  3.27s/it]               \n",
            "perl-5.32.1          | 14.4 MB   | : 100% 1.0/1 [00:04<00:00,  4.29s/it]               \n",
            "Preparing transaction: \\ \b\b| \b\bdone\n",
            "Verifying transaction: - \b\b\\ \b\b| \b\b/ \b\b- \b\b\\ \b\b| \b\b/ \b\bdone\n",
            "Executing transaction: \\ \b\b| \b\b/ \b\b- \b\b\\ \b\b| \b\b/ \b\b- \b\b\\ \b\b| \b\b/ \b\b- \b\b\\ \b\b| \b\b/ \b\b- \b\b\\ \b\bdone\n",
            "Retrieving notices: ...working... done\n"
          ]
        }
      ]
    },
    {
      "cell_type": "code",
      "source": [
        "!wget http://ftp.ensembl.org/pub/release-107/fasta/mus_musculus/dna/Mus_musculus.GRCm39.dna.chromosome.19.fa.gz\n",
        "!wget http://ftp.ensembl.org/pub/release-107/gtf/mus_musculus/Mus_musculus.GRCm39.107.gtf.gz"
      ],
      "metadata": {
        "colab": {
          "base_uri": "https://localhost:8080/"
        },
        "id": "lYUr4eKOLMgC",
        "outputId": "cfbc0bd7-155a-4763-8010-7aadad196443"
      },
      "execution_count": null,
      "outputs": [
        {
          "output_type": "stream",
          "name": "stdout",
          "text": [
            "--2022-10-03 09:31:06--  http://ftp.ensembl.org/pub/release-107/fasta/mus_musculus/dna/Mus_musculus.GRCm39.dna.chromosome.19.fa.gz\n",
            "Resolving ftp.ensembl.org (ftp.ensembl.org)... 193.62.193.139\n",
            "Connecting to ftp.ensembl.org (ftp.ensembl.org)|193.62.193.139|:80... connected.\n",
            "HTTP request sent, awaiting response... 200 OK\n",
            "Length: 17732438 (17M) [application/x-gzip]\n",
            "Saving to: ‘Mus_musculus.GRCm39.dna.chromosome.19.fa.gz’\n",
            "\n",
            "Mus_musculus.GRCm39 100%[===================>]  16.91M  13.4MB/s    in 1.3s    \n",
            "\n",
            "2022-10-03 09:31:08 (13.4 MB/s) - ‘Mus_musculus.GRCm39.dna.chromosome.19.fa.gz’ saved [17732438/17732438]\n",
            "\n",
            "--2022-10-03 09:31:08--  http://ftp.ensembl.org/pub/release-107/gtf/mus_musculus/Mus_musculus.GRCm39.107.gtf.gz\n",
            "Resolving ftp.ensembl.org (ftp.ensembl.org)... 193.62.193.139\n",
            "Connecting to ftp.ensembl.org (ftp.ensembl.org)|193.62.193.139|:80... connected.\n",
            "HTTP request sent, awaiting response... 200 OK\n",
            "Length: 31861821 (30M) [application/x-gzip]\n",
            "Saving to: ‘Mus_musculus.GRCm39.107.gtf.gz’\n",
            "\n",
            "Mus_musculus.GRCm39 100%[===================>]  30.39M  17.9MB/s    in 1.7s    \n",
            "\n",
            "2022-10-03 09:31:10 (17.9 MB/s) - ‘Mus_musculus.GRCm39.107.gtf.gz’ saved [31861821/31861821]\n",
            "\n"
          ]
        }
      ]
    },
    {
      "cell_type": "code",
      "source": [
        "!gzip -d Mus_musculus.GRCm39.dna.chromosome.19.fa.gz\n",
        "!gzip -d Mus_musculus.GRCm39.107.gtf.gz"
      ],
      "metadata": {
        "id": "hjSgfPh0Lx1e"
      },
      "execution_count": null,
      "outputs": []
    },
    {
      "cell_type": "code",
      "source": [
        "!grep -P '^19\\t' Mus_musculus.GRCm39.107.gtf > Mus_musculus.chr19.gtf"
      ],
      "metadata": {
        "id": "vy9HmSt5Lz4T"
      },
      "execution_count": null,
      "outputs": []
    },
    {
      "cell_type": "code",
      "source": [
        "!mkdir hisat2"
      ],
      "metadata": {
        "id": "F48H83ttMpTt"
      },
      "execution_count": null,
      "outputs": []
    },
    {
      "cell_type": "code",
      "source": [
        "%cd hisat2"
      ],
      "metadata": {
        "colab": {
          "base_uri": "https://localhost:8080/"
        },
        "id": "3_gODz4oNd-p",
        "outputId": "011fc543-e246-4158-998e-d0e6929de075"
      },
      "execution_count": null,
      "outputs": [
        {
          "output_type": "stream",
          "name": "stdout",
          "text": [
            "/content/hisat2\n"
          ]
        }
      ]
    },
    {
      "cell_type": "code",
      "source": [
        "!hisat2_extract_splice_sites.py /content/Mus_musculus.chr19.gtf > Mus_musculus.chr19.ss\n",
        "!hisat2_extract_exons.py /content/Mus_musculus.chr19.gtf > Mus_musculus.chr19.exons\n",
        "!ls -lh"
      ],
      "metadata": {
        "colab": {
          "base_uri": "https://localhost:8080/"
        },
        "id": "wOl812nFNfgs",
        "outputId": "79afe533-da52-4e18-8b58-4f2bea9c9aa6"
      },
      "execution_count": null,
      "outputs": [
        {
          "output_type": "stream",
          "name": "stdout",
          "text": [
            "total 396K\n",
            "-rw-r--r-- 1 root root 188K Oct  3 09:48 Mus_musculus.chr19.exons\n",
            "-rw-r--r-- 1 root root 206K Oct  3 09:48 Mus_musculus.chr19.ss\n"
          ]
        }
      ]
    },
    {
      "cell_type": "code",
      "source": [
        "!head Mus_musculus.chr19.ss"
      ],
      "metadata": {
        "colab": {
          "base_uri": "https://localhost:8080/"
        },
        "id": "02sOLpPaP68O",
        "outputId": "af38dd3f-55aa-4c50-9da3-46e8807bde64"
      },
      "execution_count": null,
      "outputs": [
        {
          "output_type": "stream",
          "name": "stdout",
          "text": [
            "19\t3103277\t3109879\t-\n",
            "19\t3109990\t3119366\t-\n",
            "19\t3118148\t3119366\t-\n",
            "19\t3119439\t3122687\t-\n",
            "19\t3122952\t3125713\t-\n",
            "19\t3122952\t3246944\t-\n",
            "19\t3125884\t3246944\t-\n",
            "19\t3196264\t3197632\t-\n",
            "19\t3196264\t3203930\t-\n",
            "19\t3196264\t3209940\t-\n"
          ]
        }
      ]
    },
    {
      "cell_type": "code",
      "source": [
        "!hisat2-build --ss Mus_musculus.chr19.ss --exon Mus_musculus.chr19.exons /content/Mus_musculus.GRCm39.dna.chromosome.19.fa Mus_musculus.chromosome.19.index"
      ],
      "metadata": {
        "colab": {
          "base_uri": "https://localhost:8080/"
        },
        "id": "f4SLI9m3QEZ9",
        "outputId": "53fd91c8-3a13-44fc-dc96-21e45b4ac13e"
      },
      "execution_count": null,
      "outputs": [
        {
          "output_type": "stream",
          "name": "stdout",
          "text": [
            "Settings:\n",
            "  Output files: \"Mus_musculus.chromosome.19.index.*.ht2\"\n",
            "  Line rate: 7 (line is 128 bytes)\n",
            "  Lines per side: 1 (side is 128 bytes)\n",
            "  Offset rate: 4 (one in 16)\n",
            "  FTable chars: 10\n",
            "  Strings: unpacked\n",
            "  Local offset rate: 3 (one in 8)\n",
            "  Local fTable chars: 6\n",
            "  Local sequence length: 57344\n",
            "  Local sequence overlap between two consecutive indexes: 1024\n",
            "  Endianness: little\n",
            "  Actual local endianness: little\n",
            "  Sanity checking: disabled\n",
            "  Assertions: disabled\n",
            "  Random seed: 0\n",
            "  Sizeofs: void*:8, int:4, long:8, size_t:8\n",
            "Input files DNA, FASTA:\n",
            "  /content/Mus_musculus.GRCm39.dna.chromosome.19.fa\n",
            "Reading reference sizes\n",
            "  Time reading reference sizes: 00:00:01\n",
            "Calculating joined length\n",
            "Writing header\n",
            "Reserving space for joined string\n",
            "Joining reference sequences\n",
            "  Time to join reference sequences: 00:00:00\n",
            "  Time to read SNPs and splice sites: 00:00:00\n",
            "Generation 0 (58229592 -> 58229592 nodes, 0 ranks)\n",
            "COUNTED NEW NODES: 0\n",
            "COUNTED TEMP NODES: 0\n",
            "RESIZED NODES: 0\n",
            "RESIZED NODES: 0\n",
            "MADE NEW NODES: 1\n",
            "Generation 1 (58238835 -> 58238835 nodes, 0 ranks)\n",
            "COUNTED NEW NODES: 0\n",
            "COUNTED TEMP NODES: 0\n",
            "RESIZED NODES: 0\n",
            "RESIZED NODES: 0\n",
            "MADE NEW NODES: 0\n",
            "Generation 2 (58257324 -> 58257324 nodes, 0 ranks)\n",
            "COUNTED NEW NODES: 1\n",
            "COUNTED TEMP NODES: 0\n",
            "RESIZED NODES: 0\n",
            "RESIZED NODES: 0\n",
            "MADE NEW NODES: 0\n",
            "Generation 3 (58294309 -> 58294309 nodes, 0 ranks)\n",
            "BUILT FROM_INDEX: 0\n",
            "COUNTED NEW NODES: 0\n",
            "COUNTED TEMP NODES: 0\n",
            "RESIZED NODES: 1\n",
            "RESIZED NODES: 0\n",
            "MADE NEW NODES: 0\n",
            "RESIZE NODES: 1\n",
            "SORT NODES: 7\n",
            "MERGE, UPDATE RANK: 1\n",
            "Generation 4 (58368331 -> 58313410 nodes, 49110827 ranks)\n",
            "tcmalloc: large alloc 1077936128 bytes == 0x55c923342000 @  0x7fce7622e887 0x55c8a550657b 0x55c8a553e8d3 0x55c8a5542e51 0x55c8a5567e34 0x55c8a5570b0c 0x55c8a5577b2b 0x55c8a557a022 0x7fce7586cc87 0x55c8a54c5f69\n",
            "ALLOCATE FROM_TABLE: 0\n",
            "BUILD TABLE: 4\n",
            "BUILD INDEX: 0\n",
            "COUNTED NEW NODES: 0\n",
            "COUNTED TEMP NODES: 0\n",
            "RESIZED NODES: 0\n",
            "RESIZED NODES: 0\n",
            "MADE NEW NODES: 2\n",
            "MERGEUPDATERANK: 1\n",
            "TOTAL TIME: 7\n",
            "Generation 5 (58319557 -> 58313558 nodes, 54635276 ranks)\n",
            "ALLOCATE FROM_TABLE: 0\n",
            "BUILD TABLE: 3\n",
            "BUILD INDEX: 1\n",
            "COUNTED NEW NODES: 0\n",
            "COUNTED TEMP NODES: 0\n",
            "RESIZED NODES: 0\n",
            "RESIZED NODES: 0\n",
            "MADE NEW NODES: 1\n",
            "MERGEUPDATERANK: 0\n",
            "TOTAL TIME: 5\n",
            "Generation 6 (58316195 -> 58315009 nodes, 56680017 ranks)\n",
            "ALLOCATE FROM_TABLE: 0\n",
            "BUILD TABLE: 4\n",
            "BUILD INDEX: 0\n",
            "COUNTED NEW NODES: 0\n",
            "COUNTED TEMP NODES: 0\n",
            "RESIZED NODES: 0\n",
            "RESIZED NODES: 0\n",
            "MADE NEW NODES: 1\n",
            "MERGEUPDATERANK: 0\n",
            "TOTAL TIME: 5\n",
            "Generation 7 (58317175 -> 58316148 nodes, 57551520 ranks)\n",
            "ALLOCATE FROM_TABLE: 0\n",
            "BUILD TABLE: 4\n",
            "BUILD INDEX: 1\n",
            "COUNTED NEW NODES: 0\n",
            "COUNTED TEMP NODES: 0\n",
            "RESIZED NODES: 0\n",
            "RESIZED NODES: 0\n",
            "MADE NEW NODES: 0\n",
            "MERGEUPDATERANK: 0\n",
            "TOTAL TIME: 5\n",
            "Generation 8 (58317318 -> 58316480 nodes, 57947051 ranks)\n",
            "ALLOCATE FROM_TABLE: 0\n",
            "BUILD TABLE: 5\n",
            "BUILD INDEX: 0\n",
            "COUNTED NEW NODES: 0\n",
            "COUNTED TEMP NODES: 0\n",
            "RESIZED NODES: 0\n",
            "RESIZED NODES: 0\n",
            "MADE NEW NODES: 0\n",
            "MERGEUPDATERANK: 1\n",
            "TOTAL TIME: 6\n",
            "Generation 9 (58317031 -> 58316482 nodes, 58154142 ranks)\n",
            "ALLOCATE FROM_TABLE: 0\n",
            "BUILD TABLE: 4\n",
            "BUILD INDEX: 0\n",
            "COUNTED NEW NODES: 0\n",
            "COUNTED TEMP NODES: 0\n",
            "RESIZED NODES: 0\n",
            "RESIZED NODES: 0\n",
            "MADE NEW NODES: 0\n",
            "MERGEUPDATERANK: 1\n",
            "TOTAL TIME: 5\n",
            "Generation 10 (58316994 -> 58316994 nodes, 58262196 ranks)\n",
            "ALLOCATE FROM_TABLE: 0\n",
            "BUILD TABLE: 4\n",
            "BUILD INDEX: 0\n",
            "COUNTED NEW NODES: 0\n",
            "COUNTED TEMP NODES: 0\n",
            "RESIZED NODES: 0\n",
            "RESIZED NODES: 0\n",
            "MADE NEW NODES: 0\n",
            "MERGEUPDATERANK: 1\n",
            "TOTAL TIME: 5\n",
            "Generation 11 (58318018 -> 58318018 nodes, 58310720 ranks)\n",
            "ALLOCATE FROM_TABLE: 0\n",
            "BUILD TABLE: 4\n",
            "BUILD INDEX: 0\n",
            "COUNTED NEW NODES: 0\n",
            "COUNTED TEMP NODES: 0\n",
            "RESIZED NODES: 0\n",
            "RESIZED NODES: 0\n",
            "MADE NEW NODES: 0\n",
            "MERGEUPDATERANK: 1\n",
            "TOTAL TIME: 5\n",
            "Generation 12 (58318140 -> 58318140 nodes, 58317867 ranks)\n",
            "ALLOCATE FROM_TABLE: 0\n",
            "BUILD TABLE: 4\n",
            "BUILD INDEX: 0\n",
            "COUNTED NEW NODES: 0\n",
            "COUNTED TEMP NODES: 0\n",
            "RESIZED NODES: 0\n",
            "RESIZED NODES: 0\n",
            "MADE NEW NODES: 0\n",
            "MERGEUPDATERANK: 0\n",
            "TOTAL TIME: 4\n",
            "Generation 13 (58318140 -> 58318140 nodes, 58318140 ranks)\n",
            "Generating edges... \n",
            "NODE.TO -> GENOME POS: 0\n",
            "BUILD FROM_INDEX 0\n",
            "COUNTED NEW EDGES: 1\n",
            "MADE NEW EDGES: 1\n",
            "SORTED NEW EDGES: 3\n",
            "RE-SORTED NODES: 6\n",
            "PROCESS EDGES: 0\n",
            "REMOVE Y: 0\n",
            "SORT, Make index: 3\n",
            "TOTAL: 14\n",
            "Allocating ftab, absorbFtab\n",
            "Entering GFM loop\n",
            "Exited GFM loop\n",
            "fchr[A]: 0\n",
            "fchr[C]: 16764343\n",
            "fchr[G]: 29243014\n",
            "fchr[T]: 41693472\n",
            "fchr[$]: 58327392\n",
            "Exiting GFM::buildToDisk()\n",
            "Returning from initFromVector\n",
            "Wrote 40088609 bytes to primary GFM file: Mus_musculus.chromosome.19.index.1.ht2\n",
            "Wrote 14579540 bytes to secondary GFM file: Mus_musculus.chromosome.19.index.2.ht2\n",
            "Re-opening _in1 and _in2 as input streams\n",
            "Returning from GFM constructor\n",
            "Returning from initFromVector\n",
            "Wrote 35947245 bytes to primary GFM file: Mus_musculus.chromosome.19.index.5.ht2\n",
            "Wrote 14831960 bytes to secondary GFM file: Mus_musculus.chromosome.19.index.6.ht2\n",
            "Re-opening _in5 and _in5 as input streams\n",
            "Returning from HGFM constructor\n",
            "Headers:\n",
            "    len: 58220004\n",
            "    gbwtLen: 58327393\n",
            "    nodes: 58318139\n",
            "    sz: 29110002\n",
            "    gbwtSz: 29163697\n",
            "    lineRate: 7\n",
            "    offRate: 4\n",
            "    offMask: 0xfffffff0\n",
            "    ftabChars: 10\n",
            "    eftabLen: 0\n",
            "    eftabSz: 0\n",
            "    ftabLen: 1048577\n",
            "    ftabSz: 4194308\n",
            "    offsLen: 3644884\n",
            "    offsSz: 14579536\n",
            "    lineSz: 128\n",
            "    sideSz: 128\n",
            "    sideGbwtSz: 104\n",
            "    sideGbwtLen: 208\n",
            "    numSides: 280421\n",
            "    numLines: 280421\n",
            "    gbwtTotLen: 35893888\n",
            "    gbwtTotSz: 35893888\n",
            "    reverse: 0\n",
            "    linearFM: No\n",
            "Total time for call to driver() for forward index: 00:04:08\n"
          ]
        }
      ]
    },
    {
      "cell_type": "code",
      "source": [
        "%cd /content/hisat2"
      ],
      "metadata": {
        "colab": {
          "base_uri": "https://localhost:8080/"
        },
        "id": "00Yn0pkjUGr9",
        "outputId": "4118ea1e-d500-4eaa-d856-df331a0b017b"
      },
      "execution_count": null,
      "outputs": [
        {
          "output_type": "stream",
          "name": "stdout",
          "text": [
            "/content/hisat2\n"
          ]
        }
      ]
    },
    {
      "cell_type": "code",
      "source": [
        "!mkdir bams"
      ],
      "metadata": {
        "id": "Q4AjDmFoVoN8"
      },
      "execution_count": null,
      "outputs": []
    },
    {
      "cell_type": "code",
      "source": [
        "%cd /content/hisat2/bams"
      ],
      "metadata": {
        "colab": {
          "base_uri": "https://localhost:8080/"
        },
        "id": "DDOemJtKVuRD",
        "outputId": "0e86a771-71dc-4204-f295-69ac8f3f61bc"
      },
      "execution_count": null,
      "outputs": [
        {
          "output_type": "stream",
          "name": "stdout",
          "text": [
            "/content/hisat2/bams\n"
          ]
        }
      ]
    },
    {
      "cell_type": "code",
      "source": [
        "!conda install -y -c bioconda samtools"
      ],
      "metadata": {
        "colab": {
          "base_uri": "https://localhost:8080/"
        },
        "id": "JIHGsoXiV8_2",
        "outputId": "27a126bd-0f11-4e04-f2e4-73bea1fd54a5"
      },
      "execution_count": null,
      "outputs": [
        {
          "output_type": "stream",
          "name": "stdout",
          "text": [
            "Collecting package metadata (current_repodata.json): - \b\b\\ \b\b| \b\b/ \b\b- \b\b\\ \b\b| \b\b/ \b\b- \b\b\\ \b\b| \b\b/ \b\b- \b\b\\ \b\b| \b\b/ \b\b- \b\b\\ \b\b| \b\b/ \b\b- \b\b\\ \b\b| \b\b/ \b\b- \b\b\\ \b\b| \b\b/ \b\b- \b\b\\ \b\b| \b\b/ \b\b- \b\b\\ \b\b| \b\b/ \b\b- \b\b\\ \b\b| \b\b/ \b\b- \b\b\\ \b\b| \b\b/ \b\b- \b\b\\ \b\b| \b\b/ \b\b- \b\b\\ \b\b| \b\b/ \b\b- \b\b\\ \b\b| \b\b/ \b\b- \b\b\\ \b\b| \b\b/ \b\b- \b\b\\ \b\b| \b\b/ \b\b- \b\b\\ \b\b| \b\b/ \b\b- \b\b\\ \b\b| \b\b/ \b\b- \b\b\\ \b\b| \b\b/ \b\b- \b\b\\ \b\b| \b\b/ \b\b- \b\b\\ \b\b| \b\b/ \b\b- \b\b\\ \b\b| \b\b/ \b\b- \b\b\\ \b\b| \b\b/ \b\b- \b\b\\ \b\b| \b\b/ \b\b- \b\b\\ \b\b| \b\b/ \b\b- \b\b\\ \b\b| \b\b/ \b\b- \b\b\\ \b\b| \b\b/ \b\b- \b\b\\ \b\b| \b\b/ \b\b- \b\b\\ \b\b| \b\b/ \b\b- \b\b\\ \b\b| \b\b/ \b\b- \b\b\\ \b\b| \b\b/ \b\b- \b\b\\ \b\b| \b\b/ \b\b- \b\b\\ \b\b| \b\b/ \b\b- \b\b\\ \b\b| \b\b/ \b\b- \b\b\\ \b\b| \b\b/ \b\bdone\n",
            "Solving environment: \\ \b\b| \b\b/ \b\b- \b\b\\ \b\b| \b\b/ \b\b- \b\b\\ \b\b| \b\b/ \b\b- \b\b\\ \b\b| \b\b/ \b\b- \b\b\\ \b\b| \b\b/ \b\b- \b\b\\ \b\b| \b\b/ \b\b- \b\bdone\n",
            "\n",
            "## Package Plan ##\n",
            "\n",
            "  environment location: /usr/local\n",
            "\n",
            "  added / updated specs:\n",
            "    - samtools\n",
            "\n",
            "\n",
            "The following packages will be downloaded:\n",
            "\n",
            "    package                    |            build\n",
            "    ---------------------------|-----------------\n",
            "    htslib-1.16                |       h6bc39ce_0         2.3 MB  bioconda\n",
            "    libdeflate-1.13            |       h166bdaf_0          79 KB  conda-forge\n",
            "    samtools-1.15.1            |       h6899075_1         396 KB  bioconda\n",
            "    zlib-1.2.12                |       h166bdaf_2          91 KB  conda-forge\n",
            "    ------------------------------------------------------------\n",
            "                                           Total:         2.9 MB\n",
            "\n",
            "The following NEW packages will be INSTALLED:\n",
            "\n",
            "  htslib             bioconda/linux-64::htslib-1.16-h6bc39ce_0 None\n",
            "  libdeflate         conda-forge/linux-64::libdeflate-1.13-h166bdaf_0 None\n",
            "  samtools           bioconda/linux-64::samtools-1.15.1-h6899075_1 None\n",
            "  zlib               conda-forge/linux-64::zlib-1.2.12-h166bdaf_2 None\n",
            "\n",
            "\n",
            "\n",
            "Downloading and Extracting Packages\n",
            "samtools-1.15.1      | 396 KB    | : 100% 1.0/1 [00:00<00:00,  4.35it/s]\n",
            "zlib-1.2.12          | 91 KB     | : 100% 1.0/1 [00:00<00:00, 19.93it/s]\n",
            "htslib-1.16          | 2.3 MB    | : 100% 1.0/1 [00:00<00:00,  1.98it/s]\n",
            "libdeflate-1.13      | 79 KB     | : 100% 1.0/1 [00:00<00:00, 16.04it/s]\n",
            "Preparing transaction: | \b\bdone\n",
            "Verifying transaction: - \b\b\\ \b\bdone\n",
            "Executing transaction: / \b\bdone\n",
            "Retrieving notices: ...working... done\n"
          ]
        }
      ]
    },
    {
      "cell_type": "code",
      "source": [
        "!hisat2 --summary-file B14.5.log --no-softclip --no-unal -x /content/hisat2/Mus_musculus.chromosome.19.index -U /content/drive/MyDrive/rnaseq_data2/B14.5.fq.gz | samtools view -Sb - > B14.5.bam"
      ],
      "metadata": {
        "colab": {
          "base_uri": "https://localhost:8080/"
        },
        "id": "PcrNgYUIUyr8",
        "outputId": "d5595c06-e1f4-40e7-b47f-ce954b2227d5"
      },
      "execution_count": null,
      "outputs": [
        {
          "output_type": "stream",
          "name": "stdout",
          "text": [
            "599672 reads; of these:\n",
            "  599672 (100.00%) were unpaired; of these:\n",
            "    47057 (7.85%) aligned 0 times\n",
            "    540614 (90.15%) aligned exactly 1 time\n",
            "    12001 (2.00%) aligned >1 times\n",
            "92.15% overall alignment rate\n"
          ]
        }
      ]
    },
    {
      "cell_type": "code",
      "source": [
        "!hisat2 --summary-file B15.5.log --no-softclip --no-unal -x /content/hisat2/Mus_musculus.chromosome.19.index -U /content/drive/MyDrive/rnaseq_data2/B15.5.fq.gz | samtools view -Sb - > B15.5.bam"
      ],
      "metadata": {
        "colab": {
          "base_uri": "https://localhost:8080/"
        },
        "id": "5vMZ5rddXxJa",
        "outputId": "03f9e6c0-0927-444c-a056-148fc5612f88"
      },
      "execution_count": null,
      "outputs": [
        {
          "output_type": "stream",
          "name": "stdout",
          "text": [
            "599345 reads; of these:\n",
            "  599345 (100.00%) were unpaired; of these:\n",
            "    70617 (11.78%) aligned 0 times\n",
            "    517430 (86.33%) aligned exactly 1 time\n",
            "    11298 (1.89%) aligned >1 times\n",
            "88.22% overall alignment rate\n"
          ]
        }
      ]
    },
    {
      "cell_type": "code",
      "source": [
        "!hisat2 --summary-file B17.5.log --no-softclip --no-unal -x /content/hisat2/Mus_musculus.chromosome.19.index -U /content/drive/MyDrive/rnaseq_data2/B17.5.fq.gz | samtools view -Sb - > B17.5.bam"
      ],
      "metadata": {
        "colab": {
          "base_uri": "https://localhost:8080/"
        },
        "id": "dgqC-gTLX6K6",
        "outputId": "16f4013c-d098-4725-efb7-42b70502b87b"
      },
      "execution_count": null,
      "outputs": [
        {
          "output_type": "stream",
          "name": "stdout",
          "text": [
            "600006 reads; of these:\n",
            "  600006 (100.00%) were unpaired; of these:\n",
            "    74971 (12.50%) aligned 0 times\n",
            "    515611 (85.93%) aligned exactly 1 time\n",
            "    9424 (1.57%) aligned >1 times\n",
            "87.50% overall alignment rate\n"
          ]
        }
      ]
    },
    {
      "cell_type": "code",
      "source": [
        "!hisat2 --summary-file B20.log --no-softclip --no-unal -x /content/hisat2/Mus_musculus.chromosome.19.index -U /content/drive/MyDrive/rnaseq_data2/B20.fq.gz | samtools view -Sb - > B20.bam"
      ],
      "metadata": {
        "colab": {
          "base_uri": "https://localhost:8080/"
        },
        "id": "3jH8K6WwYQXi",
        "outputId": "5b2ebfaa-1b4c-473a-a513-e6cf1a23d20d"
      },
      "execution_count": null,
      "outputs": [
        {
          "output_type": "stream",
          "name": "stdout",
          "text": [
            "599777 reads; of these:\n",
            "  599777 (100.00%) were unpaired; of these:\n",
            "    51039 (8.51%) aligned 0 times\n",
            "    538596 (89.80%) aligned exactly 1 time\n",
            "    10142 (1.69%) aligned >1 times\n",
            "91.49% overall alignment rate\n"
          ]
        }
      ]
    },
    {
      "cell_type": "code",
      "source": [
        "!hisat2 --summary-file B34.log --no-softclip --no-unal -x /content/hisat2/Mus_musculus.chromosome.19.index -U /content/drive/MyDrive/rnaseq_data2/B34.fq.gz | samtools view -Sb - > B34.bam"
      ],
      "metadata": {
        "colab": {
          "base_uri": "https://localhost:8080/"
        },
        "id": "fuN_vsa_YaRe",
        "outputId": "6007458b-ef21-4b27-f0e5-e7f5dbbfad1d"
      },
      "execution_count": null,
      "outputs": [
        {
          "output_type": "stream",
          "name": "stdout",
          "text": [
            "599683 reads; of these:\n",
            "  599683 (100.00%) were unpaired; of these:\n",
            "    51800 (8.64%) aligned 0 times\n",
            "    539811 (90.02%) aligned exactly 1 time\n",
            "    8072 (1.35%) aligned >1 times\n",
            "91.36% overall alignment rate\n"
          ]
        }
      ]
    },
    {
      "cell_type": "code",
      "source": [
        "!hisat2 --summary-file C14.5.log --no-softclip --no-unal -x /content/hisat2/Mus_musculus.chromosome.19.index -U /content/drive/MyDrive/rnaseq_data2/C14.5.fq.gz | samtools view -Sb - > C14.5.bam"
      ],
      "metadata": {
        "colab": {
          "base_uri": "https://localhost:8080/"
        },
        "id": "H-fWv1wqYjoW",
        "outputId": "508e42b6-f303-4f01-db0d-7adfe473a773"
      },
      "execution_count": null,
      "outputs": [
        {
          "output_type": "stream",
          "name": "stdout",
          "text": [
            "599461 reads; of these:\n",
            "  599461 (100.00%) were unpaired; of these:\n",
            "    49525 (8.26%) aligned 0 times\n",
            "    538838 (89.89%) aligned exactly 1 time\n",
            "    11098 (1.85%) aligned >1 times\n",
            "91.74% overall alignment rate\n"
          ]
        }
      ]
    },
    {
      "cell_type": "code",
      "source": [
        "!hisat2 --summary-file C15.5.log --no-softclip --no-unal -x /content/hisat2/Mus_musculus.chromosome.19.index -U /content/drive/MyDrive/rnaseq_data2/C15.5.fq.gz | samtools view -Sb - > C15.5.bam"
      ],
      "metadata": {
        "colab": {
          "base_uri": "https://localhost:8080/"
        },
        "id": "axDYbANgYtF2",
        "outputId": "8e5cd38d-cf19-450e-c915-4129096b3bb5"
      },
      "execution_count": null,
      "outputs": [
        {
          "output_type": "stream",
          "name": "stdout",
          "text": [
            "600324 reads; of these:\n",
            "  600324 (100.00%) were unpaired; of these:\n",
            "    75845 (12.63%) aligned 0 times\n",
            "    514328 (85.68%) aligned exactly 1 time\n",
            "    10151 (1.69%) aligned >1 times\n",
            "87.37% overall alignment rate\n"
          ]
        }
      ]
    },
    {
      "cell_type": "code",
      "source": [
        "!hisat2 --summary-file C17.5.log --no-softclip --no-unal -x /content/hisat2/Mus_musculus.chromosome.19.index -U /content/drive/MyDrive/rnaseq_data2/C17.5.fq.gz | samtools view -Sb - > C17.5.bam"
      ],
      "metadata": {
        "colab": {
          "base_uri": "https://localhost:8080/"
        },
        "id": "7oztjRU8YxGc",
        "outputId": "dc700b02-9de2-47c5-a264-77c436954ba7"
      },
      "execution_count": null,
      "outputs": [
        {
          "output_type": "stream",
          "name": "stdout",
          "text": [
            "600268 reads; of these:\n",
            "  600268 (100.00%) were unpaired; of these:\n",
            "    58991 (9.83%) aligned 0 times\n",
            "    531103 (88.48%) aligned exactly 1 time\n",
            "    10174 (1.69%) aligned >1 times\n",
            "90.17% overall alignment rate\n"
          ]
        }
      ]
    },
    {
      "cell_type": "code",
      "source": [
        "!hisat2 --summary-file C20.log --no-softclip --no-unal -x /content/hisat2/Mus_musculus.chromosome.19.index -U /content/drive/MyDrive/rnaseq_data2/C20.fq.gz | samtools view -Sb - > C20.bam"
      ],
      "metadata": {
        "colab": {
          "base_uri": "https://localhost:8080/"
        },
        "id": "Ug1_OXqfY18j",
        "outputId": "bd57bf5e-b709-4933-fc6e-46d6022a88eb"
      },
      "execution_count": null,
      "outputs": [
        {
          "output_type": "stream",
          "name": "stdout",
          "text": [
            "600133 reads; of these:\n",
            "  600133 (100.00%) were unpaired; of these:\n",
            "    44738 (7.45%) aligned 0 times\n",
            "    545948 (90.97%) aligned exactly 1 time\n",
            "    9447 (1.57%) aligned >1 times\n",
            "92.55% overall alignment rate\n"
          ]
        }
      ]
    },
    {
      "cell_type": "code",
      "source": [
        "!hisat2 --summary-file C34.log --no-softclip --no-unal -x /content/hisat2/Mus_musculus.chromosome.19.index -U /content/drive/MyDrive/rnaseq_data2/C34.fq.gz | samtools view -Sb - > C34.bam"
      ],
      "metadata": {
        "colab": {
          "base_uri": "https://localhost:8080/"
        },
        "id": "Rtb1ZvnRY8ET",
        "outputId": "5d4eac57-74d0-4c02-8124-364deed5b500"
      },
      "execution_count": null,
      "outputs": [
        {
          "output_type": "stream",
          "name": "stdout",
          "text": [
            "599414 reads; of these:\n",
            "  599414 (100.00%) were unpaired; of these:\n",
            "    42980 (7.17%) aligned 0 times\n",
            "    547372 (91.32%) aligned exactly 1 time\n",
            "    9062 (1.51%) aligned >1 times\n",
            "92.83% overall alignment rate\n"
          ]
        }
      ]
    },
    {
      "cell_type": "markdown",
      "source": [
        "#сборка в транскрипты"
      ],
      "metadata": {
        "id": "lVff_5IRZ5EF"
      }
    },
    {
      "cell_type": "code",
      "source": [
        "!mkdir bambams"
      ],
      "metadata": {
        "id": "5FvPD2RhbQwI"
      },
      "execution_count": null,
      "outputs": []
    },
    {
      "cell_type": "code",
      "source": [
        "!mv *.bam /content/hisat2/bams/bambams"
      ],
      "metadata": {
        "id": "n62aqJGTaqxx"
      },
      "execution_count": null,
      "outputs": []
    },
    {
      "cell_type": "code",
      "source": [
        "%cd /content/hisat2/bams/bambams"
      ],
      "metadata": {
        "colab": {
          "base_uri": "https://localhost:8080/"
        },
        "id": "NopYT8JebgRU",
        "outputId": "be23597e-601b-41e6-dec1-7c68f95fd501"
      },
      "execution_count": null,
      "outputs": [
        {
          "output_type": "stream",
          "name": "stdout",
          "text": [
            "/content/hisat2/bams/bambams\n"
          ]
        }
      ]
    },
    {
      "cell_type": "code",
      "source": [
        "# !find . -name '*.bam' -exec samtools sort -o sorted.{} {} \\;\n",
        "# !find . -name '*.bam' -exec samtools sort \"{}\" > \"sorted.{}\"  \\;"
      ],
      "metadata": {
        "id": "7jmM_Tw0Z-UE"
      },
      "execution_count": null,
      "outputs": []
    },
    {
      "cell_type": "code",
      "source": [
        "#import os"
      ],
      "metadata": {
        "id": "EPejt6tcpTl2"
      },
      "execution_count": null,
      "outputs": []
    },
    {
      "cell_type": "code",
      "source": [
        "#from os import listdir"
      ],
      "metadata": {
        "id": "jqogGS7YpXu8"
      },
      "execution_count": null,
      "outputs": []
    },
    {
      "cell_type": "code",
      "source": [
        "'''\n",
        "path = /content/hisat2/bams/bambams\n",
        "os.listdir (path)\n",
        "\n",
        "df sorting (filename)\n",
        "\n",
        "for filename in os.listdir():\n",
        "  os.system(' samtools sort -o  sorted.{filename}.bam {filename}.bam ')\n",
        "\n",
        "return sorted.{filename}.bam\n",
        "'''"
      ],
      "metadata": {
        "id": "-UEFGcJDpfMp"
      },
      "execution_count": null,
      "outputs": []
    },
    {
      "cell_type": "code",
      "source": [
        "# os.listdir()"
      ],
      "metadata": {
        "colab": {
          "base_uri": "https://localhost:8080/"
        },
        "id": "RbH7nkgHu3Q_",
        "outputId": "f1a4f322-f577-4980-faf3-20f33fef1d13"
      },
      "execution_count": null,
      "outputs": [
        {
          "output_type": "execute_result",
          "data": {
            "text/plain": [
              "['C15.5.bam',\n",
              " 'B15.5.bam',\n",
              " 'C17.5.bam',\n",
              " 'B20.bam',\n",
              " 'B17.5.bam',\n",
              " 'C20.bam',\n",
              " 'B34.bam',\n",
              " 'C34.bam',\n",
              " 'B14.5.bam',\n",
              " 'C14.5.bam',\n",
              " '.ipynb_checkpoints']"
            ]
          },
          "metadata": {},
          "execution_count": 56
        }
      ]
    },
    {
      "cell_type": "code",
      "source": [
        "! samtools sort -o B14.5.sorted.bam B14.5.bam\n",
        "! samtools sort -o B15.5.sorted.bam B15.5.bam\n",
        "! samtools sort -o B17.5.sorted.bam B17.5.bam\n",
        "! samtools sort -o B20.sorted.bam B20.bam\n",
        "! samtools sort -o B34.sorted.bam B34.bam\n",
        "! samtools sort -o C14.5.sorted.bam C14.5.bam\n",
        "! samtools sort -o C15.5.sorted.bam C15.5.bam\n",
        "! samtools sort -o C17.5.sorted.bam C17.5.bam\n",
        "! samtools sort -o C20.sorted.bam C20.bam\n",
        "! samtools sort -o C34.sorted.bam C34.bam"
      ],
      "metadata": {
        "id": "w3jjh2rtoERQ"
      },
      "execution_count": null,
      "outputs": []
    },
    {
      "cell_type": "code",
      "source": [
        "!conda install -y -c bioconda stringtie"
      ],
      "metadata": {
        "colab": {
          "base_uri": "https://localhost:8080/"
        },
        "id": "rl-zawvawqWt",
        "outputId": "8b2955c4-cc3e-445a-9f3b-9b558cf410ee"
      },
      "execution_count": null,
      "outputs": [
        {
          "output_type": "stream",
          "name": "stdout",
          "text": [
            "Collecting package metadata (current_repodata.json): - \b\b\\ \b\b| \b\b/ \b\b- \b\b\\ \b\b| \b\b/ \b\b- \b\b\\ \b\b| \b\b/ \b\b- \b\b\\ \b\b| \b\b/ \b\b- \b\b\\ \b\b| \b\b/ \b\b- \b\b\\ \b\b| \b\b/ \b\b- \b\b\\ \b\b| \b\b/ \b\b- \b\b\\ \b\b| \b\b/ \b\b- \b\b\\ \b\b| \b\b/ \b\b- \b\b\\ \b\b| \b\b/ \b\b- \b\b\\ \b\b| \b\b/ \b\b- \b\b\\ \b\b| \b\b/ \b\b- \b\b\\ \b\b| \b\b/ \b\b- \b\b\\ \b\b| \b\b/ \b\b- \b\b\\ \b\b| \b\b/ \b\b- \b\b\\ \b\b| \b\b/ \b\b- \b\b\\ \b\b| \b\b/ \b\b- \b\b\\ \b\b| \b\b/ \b\b- \b\b\\ \b\b| \b\b/ \b\b- \b\b\\ \b\b| \b\b/ \b\b- \b\b\\ \b\b| \b\b/ \b\b- \b\b\\ \b\b| \b\b/ \b\b- \b\b\\ \b\b| \b\b/ \b\b- \b\b\\ \b\b| \b\b/ \b\b- \b\b\\ \b\b| \b\b/ \b\b- \b\b\\ \b\b| \b\b/ \b\b- \b\b\\ \b\b| \b\b/ \b\b- \b\b\\ \b\b| \b\b/ \b\b- \b\b\\ \b\b| \b\b/ \b\b- \b\b\\ \b\b| \b\b/ \b\b- \b\b\\ \b\b| \b\b/ \b\b- \b\b\\ \b\b| \b\b/ \b\b- \b\b\\ \b\b| \b\b/ \b\b- \b\b\\ \b\b| \b\b/ \b\b- \b\b\\ \b\b| \b\b/ \b\b- \b\b\\ \b\b| \b\b/ \b\b- \b\b\\ \b\b| \b\b/ \b\b- \b\b\\ \b\b| \b\b/ \b\b- \b\b\\ \b\b| \b\b/ \b\b- \b\b\\ \b\b| \b\b/ \b\b- \b\b\\ \b\b| \b\b/ \b\b- \b\b\\ \b\b| \b\b/ \b\b- \b\b\\ \b\bdone\n",
            "Solving environment: / \b\b- \b\b\\ \b\b| \b\b/ \b\b- \b\b\\ \b\b| \b\b/ \b\b- \b\b\\ \b\b| \b\b/ \b\b- \b\bdone\n",
            "\n",
            "## Package Plan ##\n",
            "\n",
            "  environment location: /usr/local\n",
            "\n",
            "  added / updated specs:\n",
            "    - stringtie\n",
            "\n",
            "\n",
            "The following packages will be downloaded:\n",
            "\n",
            "    package                    |            build\n",
            "    ---------------------------|-----------------\n",
            "    stringtie-2.2.1            |       ha04fe3b_3         355 KB  bioconda\n",
            "    ------------------------------------------------------------\n",
            "                                           Total:         355 KB\n",
            "\n",
            "The following NEW packages will be INSTALLED:\n",
            "\n",
            "  stringtie          bioconda/linux-64::stringtie-2.2.1-ha04fe3b_3 None\n",
            "\n",
            "\n",
            "\n",
            "Downloading and Extracting Packages\n",
            "stringtie-2.2.1      | 355 KB    | : 100% 1.0/1 [00:00<00:00,  4.72it/s]                 \n",
            "Preparing transaction: | \b\bdone\n",
            "Verifying transaction: - \b\bdone\n",
            "Executing transaction: | \b\bdone\n",
            "Retrieving notices: ...working... done\n"
          ]
        }
      ]
    },
    {
      "cell_type": "code",
      "source": [
        "!mkdir stringtie"
      ],
      "metadata": {
        "id": "Ww-oOvqRxWfz"
      },
      "execution_count": null,
      "outputs": []
    },
    {
      "cell_type": "code",
      "source": [
        "%cd /content/hisat2/bams"
      ],
      "metadata": {
        "colab": {
          "base_uri": "https://localhost:8080/"
        },
        "id": "0zMQA-Flxtea",
        "outputId": "81ff05a4-11b3-4ee1-9c43-5d5d5f8cdde0"
      },
      "execution_count": null,
      "outputs": [
        {
          "output_type": "stream",
          "name": "stdout",
          "text": [
            "/content/hisat2/bams\n"
          ]
        }
      ]
    },
    {
      "cell_type": "code",
      "source": [
        "!mkdir logs"
      ],
      "metadata": {
        "id": "VQ1lcc9Ixwd3"
      },
      "execution_count": null,
      "outputs": []
    },
    {
      "cell_type": "code",
      "source": [
        "!mv *.log /content/hisat2/bams/logs"
      ],
      "metadata": {
        "id": "4X_-xZmDyNev"
      },
      "execution_count": null,
      "outputs": []
    },
    {
      "cell_type": "code",
      "source": [
        "%cd /content/hisat2/bams/bambams/"
      ],
      "metadata": {
        "colab": {
          "base_uri": "https://localhost:8080/"
        },
        "id": "IkZu0f1Sye8H",
        "outputId": "3d8356e5-001a-4068-c422-4e6b469f571b"
      },
      "execution_count": null,
      "outputs": [
        {
          "output_type": "stream",
          "name": "stdout",
          "text": [
            "/content/hisat2/bams/bambams\n"
          ]
        }
      ]
    },
    {
      "cell_type": "code",
      "source": [
        "!mv *.sorted.bam /content/hisat2/bams/bambams/stringtie"
      ],
      "metadata": {
        "id": "X6z10SOWyVgC"
      },
      "execution_count": null,
      "outputs": []
    },
    {
      "cell_type": "code",
      "source": [
        "!mkdir /content/hisat2/bams/unsorted"
      ],
      "metadata": {
        "id": "cxrfmB9cyo2G"
      },
      "execution_count": null,
      "outputs": []
    },
    {
      "cell_type": "code",
      "source": [
        "!mv *.bam /content/hisat2/bams/unsorted"
      ],
      "metadata": {
        "id": "5xFjmAKzy2oQ"
      },
      "execution_count": null,
      "outputs": []
    },
    {
      "cell_type": "code",
      "source": [
        "%cd /content/hisat2/bams/bambams/stringtie"
      ],
      "metadata": {
        "colab": {
          "base_uri": "https://localhost:8080/"
        },
        "id": "QVd6oCslzBjN",
        "outputId": "15011356-4b32-4db0-8d55-ee537216ddbc"
      },
      "execution_count": null,
      "outputs": [
        {
          "output_type": "stream",
          "name": "stdout",
          "text": [
            "/content/hisat2/bams/bambams/stringtie\n"
          ]
        }
      ]
    },
    {
      "cell_type": "code",
      "source": [
        "! samtools index B14.5.sorted.bam \n",
        "! samtools index B15.5.sorted.bam\n",
        "! samtools index B17.5.sorted.bam\n",
        "! samtools index B20.sorted.bam\n",
        "! samtools index B34.sorted.bam\n",
        "! samtools index C14.5.sorted.bam\n",
        "! samtools index C15.5.sorted.bam\n",
        "! samtools index C17.5.sorted.bam\n",
        "! samtools index C20.sorted.bam\n",
        "! samtools index C34.sorted.bam"
      ],
      "metadata": {
        "id": "B1qPcevREhZm"
      },
      "execution_count": null,
      "outputs": []
    },
    {
      "cell_type": "code",
      "source": [
        "!stringtie -o B14.5.gtf -G /content/Mus_musculus.chr19.gtf B14.5.sorted.bam"
      ],
      "metadata": {
        "id": "nXbxkYJCzFKw"
      },
      "execution_count": null,
      "outputs": []
    },
    {
      "cell_type": "code",
      "source": [
        "!stringtie -o B15.5.gtf -G /content/Mus_musculus.chr19.gtf B15.5.sorted.bam\n",
        "!stringtie -o B17.5.gtf -G /content/Mus_musculus.chr19.gtf B17.5.sorted.bam\n",
        "!stringtie -o B20.gtf -G /content/Mus_musculus.chr19.gtf B20.sorted.bam\n",
        "!stringtie -o B34.gtf -G /content/Mus_musculus.chr19.gtf B34.sorted.bam\n",
        "!stringtie -o C14.5.gtf -G /content/Mus_musculus.chr19.gtf C14.5.sorted.bam\n",
        "!stringtie -o C15.5.gtf -G /content/Mus_musculus.chr19.gtf C15.5.sorted.bam\n",
        "!stringtie -o C17.5.gtf -G /content/Mus_musculus.chr19.gtf C17.5.sorted.bam\n",
        "!stringtie -o C20.gtf -G /content/Mus_musculus.chr19.gtf C20.sorted.bam\n",
        "!stringtie -o C34.gtf -G /content/Mus_musculus.chr19.gtf C34.sorted.bam"
      ],
      "metadata": {
        "id": "vQ8G3KEs0K98"
      },
      "execution_count": null,
      "outputs": []
    },
    {
      "cell_type": "code",
      "source": [
        "!ls -1 *.gtf > Mus.Musvulus.new.gtf.list #list of gtf files"
      ],
      "metadata": {
        "id": "iuYJlvVD03Wh"
      },
      "execution_count": null,
      "outputs": []
    },
    {
      "cell_type": "code",
      "source": [
        "!stringtie --merge Mus.Musvulus.new.gtf.list -G /content/Mus_musculus.chr19.gtf -o merged.gtf"
      ],
      "metadata": {
        "id": "Qx6Mkvqi6OEF"
      },
      "execution_count": null,
      "outputs": []
    },
    {
      "cell_type": "markdown",
      "source": [
        "#Перекартируем риды с учетом новой аннотации"
      ],
      "metadata": {
        "id": "yh-HwzKm6m05"
      }
    },
    {
      "cell_type": "code",
      "source": [
        "%cd /content"
      ],
      "metadata": {
        "colab": {
          "base_uri": "https://localhost:8080/"
        },
        "id": "yjK9a3CH_JCC",
        "outputId": "15d460bd-d9f6-44eb-ceba-c25eed62ee8a"
      },
      "execution_count": null,
      "outputs": [
        {
          "output_type": "stream",
          "name": "stdout",
          "text": [
            "/content\n"
          ]
        }
      ]
    },
    {
      "cell_type": "code",
      "source": [
        "!mkdir newhisat"
      ],
      "metadata": {
        "id": "m-Oah3389oDM"
      },
      "execution_count": null,
      "outputs": []
    },
    {
      "cell_type": "code",
      "source": [
        "%cd /content/hisat2/bams/bambams/stringtie"
      ],
      "metadata": {
        "colab": {
          "base_uri": "https://localhost:8080/"
        },
        "id": "1cz4T7a__S4O",
        "outputId": "2da809a8-fdf6-4e55-dca4-0097667e08ed"
      },
      "execution_count": null,
      "outputs": [
        {
          "output_type": "stream",
          "name": "stdout",
          "text": [
            "/content/hisat2/bams/bambams/stringtie\n"
          ]
        }
      ]
    },
    {
      "cell_type": "code",
      "source": [
        "!mv merged.gtf /content/newhisat"
      ],
      "metadata": {
        "id": "3YirW4Vg_Xzx"
      },
      "execution_count": null,
      "outputs": []
    },
    {
      "cell_type": "code",
      "source": [
        "%cd /content/newhisat"
      ],
      "metadata": {
        "colab": {
          "base_uri": "https://localhost:8080/"
        },
        "id": "8rNqHZeO_jmR",
        "outputId": "c2beaa96-c059-4ee3-9a8d-c1c68fd48c05"
      },
      "execution_count": null,
      "outputs": [
        {
          "output_type": "stream",
          "name": "stdout",
          "text": [
            "/content/newhisat\n"
          ]
        }
      ]
    },
    {
      "cell_type": "code",
      "source": [
        "!hisat2_extract_splice_sites.py /content/newhisat/merged.gtf > Mus_musculus.chr19.ss\n",
        "!hisat2_extract_exons.py /content/newhisat/merged.gtf > Mus_musculus.chr19.exons"
      ],
      "metadata": {
        "id": "p4aCg7JO9l5J"
      },
      "execution_count": null,
      "outputs": []
    },
    {
      "cell_type": "code",
      "source": [
        "!hisat2-build --ss Mus_musculus.chr19.ss --exon Mus_musculus.chr19.exons /content/Mus_musculus.GRCm39.dna.chromosome.19.fa new.index"
      ],
      "metadata": {
        "colab": {
          "base_uri": "https://localhost:8080/"
        },
        "id": "LSLMQw65_6tD",
        "outputId": "113cee6a-1fb1-4691-ec20-f2677695a3d2"
      },
      "execution_count": null,
      "outputs": [
        {
          "output_type": "stream",
          "name": "stdout",
          "text": [
            "Settings:\n",
            "  Output files: \"new.index.*.ht2\"\n",
            "  Line rate: 7 (line is 128 bytes)\n",
            "  Lines per side: 1 (side is 128 bytes)\n",
            "  Offset rate: 4 (one in 16)\n",
            "  FTable chars: 10\n",
            "  Strings: unpacked\n",
            "  Local offset rate: 3 (one in 8)\n",
            "  Local fTable chars: 6\n",
            "  Local sequence length: 57344\n",
            "  Local sequence overlap between two consecutive indexes: 1024\n",
            "  Endianness: little\n",
            "  Actual local endianness: little\n",
            "  Sanity checking: disabled\n",
            "  Assertions: disabled\n",
            "  Random seed: 0\n",
            "  Sizeofs: void*:8, int:4, long:8, size_t:8\n",
            "Input files DNA, FASTA:\n",
            "  /content/Mus_musculus.GRCm39.dna.chromosome.19.fa\n",
            "Reading reference sizes\n",
            "  Time reading reference sizes: 00:00:01\n",
            "Calculating joined length\n",
            "Writing header\n",
            "Reserving space for joined string\n",
            "Joining reference sequences\n",
            "  Time to join reference sequences: 00:00:00\n",
            "  Time to read SNPs and splice sites: 00:00:00\n",
            "Generation 0 (58230283 -> 58230283 nodes, 0 ranks)\n",
            "COUNTED NEW NODES: 0\n",
            "COUNTED TEMP NODES: 0\n",
            "RESIZED NODES: 1\n",
            "RESIZED NODES: 0\n",
            "MADE NEW NODES: 0\n",
            "Generation 1 (58240192 -> 58240192 nodes, 0 ranks)\n",
            "COUNTED NEW NODES: 0\n",
            "COUNTED TEMP NODES: 0\n",
            "RESIZED NODES: 0\n",
            "RESIZED NODES: 0\n",
            "MADE NEW NODES: 1\n",
            "Generation 2 (58260015 -> 58260015 nodes, 0 ranks)\n",
            "COUNTED NEW NODES: 0\n",
            "COUNTED TEMP NODES: 0\n",
            "RESIZED NODES: 0\n",
            "RESIZED NODES: 0\n",
            "MADE NEW NODES: 0\n",
            "Generation 3 (58299668 -> 58299668 nodes, 0 ranks)\n",
            "BUILT FROM_INDEX: 0\n",
            "COUNTED NEW NODES: 1\n",
            "COUNTED TEMP NODES: 0\n",
            "RESIZED NODES: 0\n",
            "RESIZED NODES: 0\n",
            "MADE NEW NODES: 0\n",
            "RESIZE NODES: 1\n",
            "SORT NODES: 7\n",
            "MERGE, UPDATE RANK: 1\n",
            "Generation 4 (58379038 -> 58320093 nodes, 49116248 ranks)\n",
            "tcmalloc: large alloc 1077936128 bytes == 0x559cafe40000 @  0x7fca1e567887 0x559c3141957b 0x559c314518d3 0x559c31455e51 0x559c3147ae34 0x559c31483b0c 0x559c3148ab2b 0x559c3148d022 0x7fca1dba5c87 0x559c313d8f69\n",
            "ALLOCATE FROM_TABLE: 0\n",
            "BUILD TABLE: 3\n",
            "BUILD INDEX: 1\n",
            "COUNTED NEW NODES: 0\n",
            "COUNTED TEMP NODES: 0\n",
            "RESIZED NODES: 0\n",
            "RESIZED NODES: 0\n",
            "MADE NEW NODES: 2\n",
            "MERGEUPDATERANK: 0\n",
            "TOTAL TIME: 6\n",
            "Generation 5 (58327426 -> 58320771 nodes, 54641431 ranks)\n",
            "ALLOCATE FROM_TABLE: 0\n",
            "BUILD TABLE: 4\n",
            "BUILD INDEX: 0\n",
            "COUNTED NEW NODES: 0\n",
            "COUNTED TEMP NODES: 0\n",
            "RESIZED NODES: 0\n",
            "RESIZED NODES: 0\n",
            "MADE NEW NODES: 1\n",
            "MERGEUPDATERANK: 1\n",
            "TOTAL TIME: 6\n",
            "Generation 6 (58324457 -> 58322960 nodes, 56686976 ranks)\n",
            "ALLOCATE FROM_TABLE: 0\n",
            "BUILD TABLE: 3\n",
            "BUILD INDEX: 0\n",
            "COUNTED NEW NODES: 1\n",
            "COUNTED TEMP NODES: 0\n",
            "RESIZED NODES: 0\n",
            "RESIZED NODES: 0\n",
            "MADE NEW NODES: 0\n",
            "MERGEUPDATERANK: 0\n",
            "TOTAL TIME: 4\n",
            "Generation 7 (58325991 -> 58324454 nodes, 57559318 ranks)\n",
            "ALLOCATE FROM_TABLE: 0\n",
            "BUILD TABLE: 4\n",
            "BUILD INDEX: 0\n",
            "COUNTED NEW NODES: 0\n",
            "COUNTED TEMP NODES: 0\n",
            "RESIZED NODES: 0\n",
            "RESIZED NODES: 0\n",
            "MADE NEW NODES: 1\n",
            "MERGEUPDATERANK: 0\n",
            "TOTAL TIME: 5\n",
            "Generation 8 (58326130 -> 58324639 nodes, 57955028 ranks)\n",
            "ALLOCATE FROM_TABLE: 0\n",
            "BUILD TABLE: 3\n",
            "BUILD INDEX: 1\n",
            "COUNTED NEW NODES: 0\n",
            "COUNTED TEMP NODES: 0\n",
            "RESIZED NODES: 0\n",
            "RESIZED NODES: 0\n",
            "MADE NEW NODES: 0\n",
            "MERGEUPDATERANK: 0\n",
            "TOTAL TIME: 4\n",
            "Generation 9 (58325446 -> 58324489 nodes, 58162097 ranks)\n",
            "ALLOCATE FROM_TABLE: 0\n",
            "BUILD TABLE: 4\n",
            "BUILD INDEX: 0\n",
            "COUNTED NEW NODES: 0\n",
            "COUNTED TEMP NODES: 0\n",
            "RESIZED NODES: 0\n",
            "RESIZED NODES: 0\n",
            "MADE NEW NODES: 0\n",
            "MERGEUPDATERANK: 1\n",
            "TOTAL TIME: 5\n",
            "Generation 10 (58325216 -> 58324813 nodes, 58270015 ranks)\n",
            "ALLOCATE FROM_TABLE: 0\n",
            "BUILD TABLE: 3\n",
            "BUILD INDEX: 0\n",
            "COUNTED NEW NODES: 0\n",
            "COUNTED TEMP NODES: 0\n",
            "RESIZED NODES: 0\n",
            "RESIZED NODES: 0\n",
            "MADE NEW NODES: 1\n",
            "MERGEUPDATERANK: 0\n",
            "TOTAL TIME: 4\n",
            "Generation 11 (58325837 -> 58325837 nodes, 58318539 ranks)\n",
            "ALLOCATE FROM_TABLE: 0\n",
            "BUILD TABLE: 3\n",
            "BUILD INDEX: 1\n",
            "COUNTED NEW NODES: 0\n",
            "COUNTED TEMP NODES: 0\n",
            "RESIZED NODES: 0\n",
            "RESIZED NODES: 0\n",
            "MADE NEW NODES: 0\n",
            "MERGEUPDATERANK: 0\n",
            "TOTAL TIME: 4\n",
            "Generation 12 (58325959 -> 58325959 nodes, 58325686 ranks)\n",
            "ALLOCATE FROM_TABLE: 0\n",
            "BUILD TABLE: 4\n",
            "BUILD INDEX: 0\n",
            "COUNTED NEW NODES: 0\n",
            "COUNTED TEMP NODES: 0\n",
            "RESIZED NODES: 0\n",
            "RESIZED NODES: 0\n",
            "MADE NEW NODES: 0\n",
            "MERGEUPDATERANK: 0\n",
            "TOTAL TIME: 4\n",
            "Generation 13 (58325959 -> 58325959 nodes, 58325959 ranks)\n",
            "Generating edges... \n",
            "NODE.TO -> GENOME POS: 1\n",
            "BUILD FROM_INDEX 0\n",
            "COUNTED NEW EDGES: 0\n",
            "MADE NEW EDGES: 1\n",
            "SORTED NEW EDGES: 4\n",
            "RE-SORTED NODES: 4\n",
            "PROCESS EDGES: 0\n",
            "REMOVE Y: 0\n",
            "SORT, Make index: 3\n",
            "TOTAL: 13\n",
            "Allocating ftab, absorbFtab\n",
            "Entering GFM loop\n",
            "Exited GFM loop\n",
            "fchr[A]: 0\n",
            "fchr[C]: 16766467\n",
            "fchr[G]: 29247223\n",
            "fchr[T]: 41699605\n",
            "fchr[$]: 58335881\n",
            "Exiting GFM::buildToDisk()\n",
            "Returning from initFromVector\n",
            "Wrote 40093745 bytes to primary GFM file: new.index.1.ht2\n",
            "Wrote 14581496 bytes to secondary GFM file: new.index.2.ht2\n",
            "Re-opening _in1 and _in2 as input streams\n",
            "Returning from GFM constructor\n",
            "Returning from initFromVector\n",
            "Wrote 36178101 bytes to primary GFM file: new.index.5.ht2\n",
            "Wrote 14832736 bytes to secondary GFM file: new.index.6.ht2\n",
            "Re-opening _in5 and _in5 as input streams\n",
            "Returning from HGFM constructor\n",
            "Headers:\n",
            "    len: 58220004\n",
            "    gbwtLen: 58335882\n",
            "    nodes: 58325958\n",
            "    sz: 29110002\n",
            "    gbwtSz: 29167942\n",
            "    lineRate: 7\n",
            "    offRate: 4\n",
            "    offMask: 0xfffffff0\n",
            "    ftabChars: 10\n",
            "    eftabLen: 0\n",
            "    eftabSz: 0\n",
            "    ftabLen: 1048577\n",
            "    ftabSz: 4194308\n",
            "    offsLen: 3645373\n",
            "    offsSz: 14581492\n",
            "    lineSz: 128\n",
            "    sideSz: 128\n",
            "    sideGbwtSz: 104\n",
            "    sideGbwtLen: 208\n",
            "    numSides: 280461\n",
            "    numLines: 280461\n",
            "    gbwtTotLen: 35899008\n",
            "    gbwtTotSz: 35899008\n",
            "    reverse: 0\n",
            "    linearFM: No\n",
            "Total time for call to driver() for forward index: 00:03:49\n"
          ]
        }
      ]
    },
    {
      "cell_type": "code",
      "source": [
        "!mkdir bams"
      ],
      "metadata": {
        "id": "v3rTMHL0AIFE"
      },
      "execution_count": null,
      "outputs": []
    },
    {
      "cell_type": "code",
      "source": [
        "%cd /content/newhisat/bams"
      ],
      "metadata": {
        "colab": {
          "base_uri": "https://localhost:8080/"
        },
        "id": "0UmGcoEKAkeb",
        "outputId": "7840d616-d6ef-4fb2-b438-8f0926f6ca27"
      },
      "execution_count": null,
      "outputs": [
        {
          "output_type": "stream",
          "name": "stdout",
          "text": [
            "/content/newhisat/bams\n"
          ]
        }
      ]
    },
    {
      "cell_type": "code",
      "source": [
        "!hisat2 --summary-file B14.5.new.log --no-softclip --no-unal -x /content/newhisat/new.index -U /content/drive/MyDrive/rnaseq_data2/B14.5.fq.gz | samtools view -Sb - > B14.5.new.bam"
      ],
      "metadata": {
        "colab": {
          "base_uri": "https://localhost:8080/"
        },
        "id": "dpTT3cZUAHo_",
        "outputId": "c87709a2-ce8d-4f1f-e8eb-14a774cd36aa"
      },
      "execution_count": null,
      "outputs": [
        {
          "output_type": "stream",
          "name": "stdout",
          "text": [
            "599672 reads; of these:\n",
            "  599672 (100.00%) were unpaired; of these:\n",
            "    46820 (7.81%) aligned 0 times\n",
            "    540685 (90.16%) aligned exactly 1 time\n",
            "    12167 (2.03%) aligned >1 times\n",
            "92.19% overall alignment rate\n"
          ]
        }
      ]
    },
    {
      "cell_type": "code",
      "source": [
        "!hisat2 --summary-file B15.5.new.log --no-softclip --no-unal -x /content/newhisat/new.index -U /content/drive/MyDrive/rnaseq_data2/B15.5.fq.gz | samtools view -Sb - > B15.5.new.bam"
      ],
      "metadata": {
        "colab": {
          "base_uri": "https://localhost:8080/"
        },
        "id": "c55XpdhuBOld",
        "outputId": "c8cff94a-4df1-4390-c7be-fa670d41438a"
      },
      "execution_count": null,
      "outputs": [
        {
          "output_type": "stream",
          "name": "stdout",
          "text": [
            "599345 reads; of these:\n",
            "  599345 (100.00%) were unpaired; of these:\n",
            "    70489 (11.76%) aligned 0 times\n",
            "    517338 (86.32%) aligned exactly 1 time\n",
            "    11518 (1.92%) aligned >1 times\n",
            "88.24% overall alignment rate\n"
          ]
        }
      ]
    },
    {
      "cell_type": "code",
      "source": [
        "!hisat2 --summary-file B17.5.new.log --no-softclip --no-unal -x /content/newhisat/new.index -U /content/drive/MyDrive/rnaseq_data2/B17.5.fq.gz | samtools view -Sb - > B17.5.new.bam"
      ],
      "metadata": {
        "colab": {
          "base_uri": "https://localhost:8080/"
        },
        "id": "oT6_Ylq-BTto",
        "outputId": "e10d91ed-6fc5-48df-960e-f83d892b24b4"
      },
      "execution_count": null,
      "outputs": [
        {
          "output_type": "stream",
          "name": "stdout",
          "text": [
            "600006 reads; of these:\n",
            "  600006 (100.00%) were unpaired; of these:\n",
            "    74997 (12.50%) aligned 0 times\n",
            "    515403 (85.90%) aligned exactly 1 time\n",
            "    9606 (1.60%) aligned >1 times\n",
            "87.50% overall alignment rate\n"
          ]
        }
      ]
    },
    {
      "cell_type": "code",
      "source": [
        "!hisat2 --summary-file B20.new.log --no-softclip --no-unal -x /content/newhisat/new.index -U /content/drive/MyDrive/rnaseq_data2/B20.fq.gz | samtools view -Sb - > B20.new.bam"
      ],
      "metadata": {
        "colab": {
          "base_uri": "https://localhost:8080/"
        },
        "id": "oZMoW8YsBmtO",
        "outputId": "d6a5d896-78e0-4735-ebd8-d02b09698965"
      },
      "execution_count": null,
      "outputs": [
        {
          "output_type": "stream",
          "name": "stdout",
          "text": [
            "599777 reads; of these:\n",
            "  599777 (100.00%) were unpaired; of these:\n",
            "    50934 (8.49%) aligned 0 times\n",
            "    538502 (89.78%) aligned exactly 1 time\n",
            "    10341 (1.72%) aligned >1 times\n",
            "91.51% overall alignment rate\n"
          ]
        }
      ]
    },
    {
      "cell_type": "code",
      "source": [
        "!hisat2 --summary-file B34.new.log --no-softclip --no-unal -x /content/newhisat/new.index -U /content/drive/MyDrive/rnaseq_data2/B34.fq.gz | samtools view -Sb - > B34.new.bam"
      ],
      "metadata": {
        "colab": {
          "base_uri": "https://localhost:8080/"
        },
        "id": "bS0uI5AmBsED",
        "outputId": "89b97de3-273b-4e7b-99e1-056df6db4e04"
      },
      "execution_count": null,
      "outputs": [
        {
          "output_type": "stream",
          "name": "stdout",
          "text": [
            "599683 reads; of these:\n",
            "  599683 (100.00%) were unpaired; of these:\n",
            "    51659 (8.61%) aligned 0 times\n",
            "    539660 (89.99%) aligned exactly 1 time\n",
            "    8364 (1.39%) aligned >1 times\n",
            "91.39% overall alignment rate\n"
          ]
        }
      ]
    },
    {
      "cell_type": "code",
      "source": [
        "!hisat2 --summary-file C14.5.new.log --no-softclip --no-unal -x /content/newhisat/new.index -U /content/drive/MyDrive/rnaseq_data2/C14.5.fq.gz | samtools view -Sb - > C14.5.new.bam"
      ],
      "metadata": {
        "colab": {
          "base_uri": "https://localhost:8080/"
        },
        "id": "lhVoBGqdByxA",
        "outputId": "eb878ae2-e958-4d3b-8e02-3390aabd2a47"
      },
      "execution_count": null,
      "outputs": [
        {
          "output_type": "stream",
          "name": "stdout",
          "text": [
            "599461 reads; of these:\n",
            "  599461 (100.00%) were unpaired; of these:\n",
            "    49338 (8.23%) aligned 0 times\n",
            "    538809 (89.88%) aligned exactly 1 time\n",
            "    11314 (1.89%) aligned >1 times\n",
            "91.77% overall alignment rate\n"
          ]
        }
      ]
    },
    {
      "cell_type": "code",
      "source": [
        "!hisat2 --summary-file C15.5.new.log --no-softclip --no-unal -x /content/newhisat/new.index -U /content/drive/MyDrive/rnaseq_data2/C15.5.fq.gz | samtools view -Sb - > C15.5.new.bam"
      ],
      "metadata": {
        "colab": {
          "base_uri": "https://localhost:8080/"
        },
        "id": "JFG70umcB1pN",
        "outputId": "d201e8da-1bdb-4870-8162-dbed90365517"
      },
      "execution_count": null,
      "outputs": [
        {
          "output_type": "stream",
          "name": "stdout",
          "text": [
            "600324 reads; of these:\n",
            "  600324 (100.00%) were unpaired; of these:\n",
            "    75677 (12.61%) aligned 0 times\n",
            "    514223 (85.66%) aligned exactly 1 time\n",
            "    10424 (1.74%) aligned >1 times\n",
            "87.39% overall alignment rate\n"
          ]
        }
      ]
    },
    {
      "cell_type": "code",
      "source": [
        "!hisat2 --summary-file C17.5.new.log --no-softclip --no-unal -x /content/newhisat/new.index -U /content/drive/MyDrive/rnaseq_data2/C17.5.fq.gz | samtools view -Sb - > C17.5.new.bam"
      ],
      "metadata": {
        "colab": {
          "base_uri": "https://localhost:8080/"
        },
        "id": "rVJpGGYIB1ds",
        "outputId": "082e239b-6714-4b0a-e6d7-0df7865f9597"
      },
      "execution_count": null,
      "outputs": [
        {
          "output_type": "stream",
          "name": "stdout",
          "text": [
            "600268 reads; of these:\n",
            "  600268 (100.00%) were unpaired; of these:\n",
            "    58925 (9.82%) aligned 0 times\n",
            "    530983 (88.46%) aligned exactly 1 time\n",
            "    10360 (1.73%) aligned >1 times\n",
            "90.18% overall alignment rate\n"
          ]
        }
      ]
    },
    {
      "cell_type": "code",
      "source": [
        "!hisat2 --summary-file C20.new.log --no-softclip --no-unal -x /content/newhisat/new.index -U /content/drive/MyDrive/rnaseq_data2/C20.fq.gz | samtools view -Sb - > C20.new.bam"
      ],
      "metadata": {
        "colab": {
          "base_uri": "https://localhost:8080/"
        },
        "id": "OQGuVJfLB1P6",
        "outputId": "c3bc0a81-e59b-4103-dd65-cb8b1a274fc8"
      },
      "execution_count": null,
      "outputs": [
        {
          "output_type": "stream",
          "name": "stdout",
          "text": [
            "600133 reads; of these:\n",
            "  600133 (100.00%) were unpaired; of these:\n",
            "    44567 (7.43%) aligned 0 times\n",
            "    545874 (90.96%) aligned exactly 1 time\n",
            "    9692 (1.61%) aligned >1 times\n",
            "92.57% overall alignment rate\n"
          ]
        }
      ]
    },
    {
      "cell_type": "code",
      "source": [
        "!hisat2 --summary-file C34.new.log --no-softclip --no-unal -x /content/newhisat/new.index -U /content/drive/MyDrive/rnaseq_data2/C34.fq.gz | samtools view -Sb - > C34.new.bam"
      ],
      "metadata": {
        "colab": {
          "base_uri": "https://localhost:8080/"
        },
        "id": "s3Hgtm6CB0_4",
        "outputId": "15e74aac-ecb8-47e1-f940-612631638a85"
      },
      "execution_count": null,
      "outputs": [
        {
          "output_type": "stream",
          "name": "stdout",
          "text": [
            "599414 reads; of these:\n",
            "  599414 (100.00%) were unpaired; of these:\n",
            "    42767 (7.13%) aligned 0 times\n",
            "    547376 (91.32%) aligned exactly 1 time\n",
            "    9271 (1.55%) aligned >1 times\n",
            "92.87% overall alignment rate\n"
          ]
        }
      ]
    },
    {
      "cell_type": "code",
      "source": [
        "!mkdir /content/newhisat/logs"
      ],
      "metadata": {
        "id": "rDttv-FCCVfm"
      },
      "execution_count": null,
      "outputs": []
    },
    {
      "cell_type": "code",
      "source": [
        "!mv *.new.log /content/newhisat/logs"
      ],
      "metadata": {
        "id": "RUY-bJQsCaEI"
      },
      "execution_count": null,
      "outputs": []
    },
    {
      "cell_type": "code",
      "source": [
        "%cd /content/drive/MyDrive/rnaseq_data2/outdata"
      ],
      "metadata": {
        "colab": {
          "base_uri": "https://localhost:8080/"
        },
        "id": "8flW0LfYbII_",
        "outputId": "5f0a80c2-3e94-41d3-b3ef-e6c2d279fb6c"
      },
      "execution_count": null,
      "outputs": [
        {
          "output_type": "stream",
          "name": "stdout",
          "text": [
            "/content/drive/MyDrive/rnaseq_data2\n"
          ]
        }
      ]
    },
    {
      "cell_type": "code",
      "source": [
        "! samtools sort -o B14.5.new.sorted.bam /content/drive/MyDrive/rnaseq_data2/outdata/B14.5.new.bam\n",
        "! samtools sort -o B15.5.new.sorted.bam /content/drive/MyDrive/rnaseq_data2/outdata/B15.5.new.bam\n",
        "! samtools sort -o B17.5.new.sorted.bam /content/drive/MyDrive/rnaseq_data2/outdata/B17.5.new.bam\n",
        "! samtools sort -o B20.new.sorted.bam /content/drive/MyDrive/rnaseq_data2/outdata/B20.new.bam\n",
        "! samtools sort -o B34.new.sorted.bam /content/drive/MyDrive/rnaseq_data2/outdata/B34.new.bam\n",
        "! samtools sort -o C14.5.new.sorted.bam /content/drive/MyDrive/rnaseq_data2/outdata/C14.5.new.bam\n",
        "! samtools sort -o C15.5.new.sorted.bam /content/drive/MyDrive/rnaseq_data2/outdata/C15.5.new.bam\n",
        "! samtools sort -o C17.5.new.sorted.bam /content/drive/MyDrive/rnaseq_data2/outdata/C17.5.new.bam\n",
        "! samtools sort -o C20.new.sorted.bam /content/drive/MyDrive/rnaseq_data2/outdata/C20.new.bam\n",
        "! samtools sort -o C34.new.sorted.bam /content/drive/MyDrive/rnaseq_data2/outdata/C34.new.bam"
      ],
      "metadata": {
        "id": "lw872HBgbAd3"
      },
      "execution_count": null,
      "outputs": []
    }
  ]
}